{
 "cells": [
  {
   "cell_type": "code",
   "execution_count": 1,
   "id": "a20d1bd3",
   "metadata": {},
   "outputs": [],
   "source": [
    "import scipy.io\n",
    "import seaborn as sns\n",
    "import numpy as np\n",
    "import pandas as pd\n",
    "import os\n",
    "import matplotlib.pyplot as plt"
   ]
  },
  {
   "cell_type": "code",
   "execution_count": 2,
   "id": "41c292e8",
   "metadata": {},
   "outputs": [],
   "source": [
    "df = pd.read_csv('2hp_all_faults_1750.csv')"
   ]
  },
  {
   "cell_type": "code",
   "execution_count": 3,
   "id": "a37802cc-9f86-4595-ac6f-325a9ca74e7c",
   "metadata": {},
   "outputs": [],
   "source": [
    "df = df[df['fault'] != '21_OR2']\n",
    "df = df[df['fault'] != '21_OR3']\n",
    "df = df[df['fault'] != '7_OR2']\n",
    "df = df[df['fault'] != '7_OR3']"
   ]
  },
  {
   "cell_type": "code",
   "execution_count": 4,
   "id": "2d89cdf7-de30-42cc-b483-8ed8101ba416",
   "metadata": {},
   "outputs": [
    {
     "data": {
      "text/plain": [
       "array(['21_BA', 'N', '21_IR', '21_OR1', '14_BA', '7_IR', '7_OR1', '14_IR',\n",
       "       '7_BA', '14_OR1'], dtype=object)"
      ]
     },
     "execution_count": 4,
     "metadata": {},
     "output_type": "execute_result"
    }
   ],
   "source": [
    "df['fault'].unique()"
   ]
  },
  {
   "cell_type": "code",
   "execution_count": 5,
   "id": "af0356f1-755d-41a7-a95d-6f81623a7e80",
   "metadata": {},
   "outputs": [
    {
     "name": "stdout",
     "output_type": "stream",
     "text": [
      "0.23307969559679226\n",
      "-4.007237291832104\n"
     ]
    }
   ],
   "source": [
    "np.random.normal(0, 1, df.shape[0])\n",
    "signal_energy = np.mean(df['DE_data']**2)\n",
    "print(signal_energy)\n",
    "white_noise_1 = np.clip(np.random.normal(0, 1, df.shape[0]), -1.2, 1.035) # -4.5\n",
    "signal_energy = np.mean(df['DE_data']**2)\n",
    "noise_energy = np.mean(white_noise_1**2)\n",
    "SNR =  10*np.log10(signal_energy/noise_energy)\n",
    "print(SNR)"
   ]
  },
  {
   "cell_type": "code",
   "execution_count": 6,
   "id": "19ab0e06-6f43-4e0b-a950-e179f70d9ee2",
   "metadata": {},
   "outputs": [],
   "source": [
    "df['DE_data'] = df['DE_data'] + white_noise_1"
   ]
  },
  {
   "cell_type": "code",
   "execution_count": 7,
   "id": "25915106",
   "metadata": {},
   "outputs": [
    {
     "name": "stdout",
     "output_type": "stream",
     "text": [
      "(16205, 1, 1200)\n"
     ]
    }
   ],
   "source": [
    "from sklearn.preprocessing import LabelEncoder\n",
    "from tensorflow.keras.utils import to_categorical\n",
    "\n",
    "win_len=1200\n",
    "stride=300\n",
    "\n",
    "X=[]\n",
    "Y=[]\n",
    "\n",
    "\n",
    "for k in df['fault'].unique():\n",
    "    \n",
    "    df_temp_2 = df[df['fault']==k]\n",
    "    \n",
    "    for i in np.arange(0,len(df_temp_2)-(win_len),stride):\n",
    "        temp = df_temp_2.iloc[i:i+win_len,:-1].values\n",
    "        temp = temp.reshape((1,-1))\n",
    "        X.append(temp)\n",
    "        Y.append(df_temp_2.iloc[i+win_len,-1])\n",
    "    \n",
    "X=np.array(X)\n",
    "print(X.shape)\n",
    "X=X.reshape((X.shape[0],-1,1))\n",
    "#X = np.repeat(X, 3, axis=3) # To repeat into 3 chanel format\n",
    "\n",
    "\n",
    "Y=np.array(Y)\n",
    "encoder= LabelEncoder()\n",
    "encoder.fit(Y)\n",
    "encoded_Y = encoder.transform(Y)\n",
    "OHE_Y = to_categorical(encoded_Y)"
   ]
  },
  {
   "cell_type": "code",
   "execution_count": 8,
   "id": "9e725c5d-dc68-4342-a0c8-dd93193f14e2",
   "metadata": {},
   "outputs": [
    {
     "data": {
      "text/plain": [
       "(16205, 1200, 1)"
      ]
     },
     "execution_count": 8,
     "metadata": {},
     "output_type": "execute_result"
    }
   ],
   "source": [
    "X.shape"
   ]
  },
  {
   "cell_type": "code",
   "execution_count": 9,
   "id": "4ce2dca7-cce0-4f11-9203-c5d2b4bedb86",
   "metadata": {},
   "outputs": [],
   "source": [
    "import scipy.fft\n",
    "X_freq = []\n",
    "for i in range(X.shape[0]):\n",
    "    X_freq.append(scipy.fft.fft(np.concatenate( X[i], axis=0 )))\n",
    "X_freq = np.asarray(X_freq)\n",
    "X_freq=X_freq.reshape((X.shape[0],-1,1))"
   ]
  },
  {
   "cell_type": "code",
   "execution_count": 10,
   "id": "75ecda82-574d-4fbf-8908-e9343f34310b",
   "metadata": {},
   "outputs": [
    {
     "data": {
      "text/plain": [
       "(16205, 1200, 1)"
      ]
     },
     "execution_count": 10,
     "metadata": {},
     "output_type": "execute_result"
    }
   ],
   "source": [
    "X_freq.shape"
   ]
  },
  {
   "cell_type": "code",
   "execution_count": 11,
   "id": "873c04f3-0a90-42a2-9133-5c2e2bc64c3a",
   "metadata": {},
   "outputs": [
    {
     "data": {
      "text/plain": [
       "array([[-21.03734923 -0.j        ],\n",
       "       [  5.91791462+19.41893165j],\n",
       "       [ 37.99990137-24.98901067j],\n",
       "       ...,\n",
       "       [ 10.40174788-26.3113668j ],\n",
       "       [ 37.99990137+24.98901067j],\n",
       "       [  5.91791462-19.41893165j]])"
      ]
     },
     "execution_count": 11,
     "metadata": {},
     "output_type": "execute_result"
    }
   ],
   "source": [
    "X_freq[0]"
   ]
  },
  {
   "cell_type": "code",
   "execution_count": 12,
   "id": "0b04ea63-ff94-478e-99f9-c443ac780598",
   "metadata": {},
   "outputs": [],
   "source": [
    "# import scipy.fft\n",
    "# A_signal_fft = scipy.fft.fft(concatop)\n",
    "# frequencies = scipy.fft.fftfreq(A_signal_fft.size, 1/48e3)\n",
    "\n",
    "# fig=plt.figure(2, figsize=(15,6))\n",
    "# plt.clf()\n",
    "# plt.plot(frequencies, np.abs(A_signal_fft), lw=1.0, c='paleturquoise')\n",
    "# plt.stem(frequencies, np.abs(A_signal_fft))\n",
    "# plt.xlabel(\"frequency [Hz]\")\n",
    "# plt.ylabel(\"amplitude [a.u.]\")\n",
    "# plt.title(r\"$|\\mathcal{F}(A_{signal})|$\")"
   ]
  },
  {
   "cell_type": "code",
   "execution_count": 13,
   "id": "3efdc769",
   "metadata": {},
   "outputs": [],
   "source": [
    "from sklearn.model_selection import train_test_split\n",
    "X_train,X_test,y_train,y_test = train_test_split(X,OHE_Y,test_size=0.2,random_state=42)\n"
   ]
  },
  {
   "cell_type": "code",
   "execution_count": 14,
   "id": "c96e4020-c5bb-4dbe-8d6d-b9de56481996",
   "metadata": {},
   "outputs": [
    {
     "data": {
      "text/plain": [
       "array([[0., 0., 1., ..., 0., 0., 0.],\n",
       "       [0., 0., 1., ..., 0., 0., 0.],\n",
       "       [0., 0., 0., ..., 0., 0., 0.],\n",
       "       ...,\n",
       "       [0., 0., 0., ..., 0., 0., 1.],\n",
       "       [0., 0., 0., ..., 0., 1., 0.],\n",
       "       [0., 0., 0., ..., 0., 0., 0.]], dtype=float32)"
      ]
     },
     "execution_count": 14,
     "metadata": {},
     "output_type": "execute_result"
    }
   ],
   "source": [
    "y_test"
   ]
  },
  {
   "cell_type": "code",
   "execution_count": 15,
   "id": "65221b6d-775b-49e9-8394-bf945fcb8e5d",
   "metadata": {},
   "outputs": [],
   "source": [
    "from sklearn.model_selection import train_test_split\n",
    "X_train_freq,X_test_freq,y_train_freq,y_test_freq = train_test_split(X_freq,OHE_Y,test_size=0.2,random_state=42)"
   ]
  },
  {
   "cell_type": "code",
   "execution_count": 16,
   "id": "5e76ebea-5735-465f-a9e2-e58c51a9b060",
   "metadata": {},
   "outputs": [
    {
     "data": {
      "text/plain": [
       "array([[0., 0., 1., ..., 0., 0., 0.],\n",
       "       [0., 0., 1., ..., 0., 0., 0.],\n",
       "       [0., 0., 0., ..., 0., 0., 0.],\n",
       "       ...,\n",
       "       [0., 0., 0., ..., 0., 0., 1.],\n",
       "       [0., 0., 0., ..., 0., 1., 0.],\n",
       "       [0., 0., 0., ..., 0., 0., 0.]], dtype=float32)"
      ]
     },
     "execution_count": 16,
     "metadata": {},
     "output_type": "execute_result"
    }
   ],
   "source": [
    "y_test_freq"
   ]
  },
  {
   "cell_type": "code",
   "execution_count": 23,
   "id": "861daf3e",
   "metadata": {},
   "outputs": [
    {
     "name": "stdout",
     "output_type": "stream",
     "text": [
      "Model: \"model_1\"\n",
      "__________________________________________________________________________________________________\n",
      " Layer (type)                   Output Shape         Param #     Connected to                     \n",
      "==================================================================================================\n",
      " input_13 (InputLayer)          [(None, 1200, 1)]    0           []                               \n",
      "                                                                                                  \n",
      " conv1d_36 (Conv1D)             (None, 1001, 16)     3216        ['input_13[0][0]']               \n",
      "                                                                                                  \n",
      " max_pooling1d_36 (MaxPooling1D  (None, 500, 16)     0           ['conv1d_36[0][0]']              \n",
      " )                                                                                                \n",
      "                                                                                                  \n",
      " batch_normalization_24 (BatchN  (None, 500, 16)     64          ['max_pooling1d_36[0][0]']       \n",
      " ormalization)                                                                                    \n",
      "                                                                                                  \n",
      " conv1d_37 (Conv1D)             (None, 401, 32)      51232       ['batch_normalization_24[0][0]'] \n",
      "                                                                                                  \n",
      " max_pooling1d_37 (MaxPooling1D  (None, 200, 32)     0           ['conv1d_37[0][0]']              \n",
      " )                                                                                                \n",
      "                                                                                                  \n",
      " batch_normalization_25 (BatchN  (None, 200, 32)     128         ['max_pooling1d_37[0][0]']       \n",
      " ormalization)                                                                                    \n",
      "                                                                                                  \n",
      " conv1d_38 (Conv1D)             (None, 151, 16)      25616       ['batch_normalization_25[0][0]'] \n",
      "                                                                                                  \n",
      " max_pooling1d_38 (MaxPooling1D  (None, 75, 16)      0           ['conv1d_38[0][0]']              \n",
      " )                                                                                                \n",
      "                                                                                                  \n",
      " dropout_2 (Dropout)            (None, 75, 16)       0           ['max_pooling1d_38[0][0]']       \n",
      "                                                                                                  \n",
      " lstm_6 (LSTM)                  (None, 64)           20736       ['dropout_2[0][0]']              \n",
      "                                                                                                  \n",
      " dense_6 (Dense)                (None, 64)           4160        ['lstm_6[0][0]']                 \n",
      "                                                                                                  \n",
      " input_14 (InputLayer)          [(None, 1200, 1)]    0           []                               \n",
      "                                                                                                  \n",
      " dense_7 (Dense)                (None, 10)           650         ['dense_6[0][0]']                \n",
      "                                                                                                  \n",
      "==================================================================================================\n",
      "Total params: 105,802\n",
      "Trainable params: 105,706\n",
      "Non-trainable params: 96\n",
      "__________________________________________________________________________________________________\n"
     ]
    }
   ],
   "source": [
    "from tensorflow.keras.models import Sequential,Model\n",
    "from tensorflow.keras.layers import Input,Dense, Dropout, Flatten\n",
    "from tensorflow.keras.layers import Conv2D, MaxPooling2D,Conv1D,MaxPooling1D\n",
    "from tensorflow.keras.layers import LSTM,Bidirectional\n",
    "from keras.layers import BatchNormalization\n",
    "from tensorflow.keras.layers import concatenate\n",
    "# from tensorflow.keras.models import load_model\n",
    "# cnn_model = load_model(r'H:\\Gear Fault\\Trained Model\\CNN_model_gear.h5')\n",
    "\n",
    "\n",
    "\n",
    "no_classes = len(df['fault'].unique())\n",
    "\n",
    "#model 1\n",
    "model_1D = Input(shape=(X.shape[1],X.shape[2]))\n",
    "conv1 = Conv1D(filters=16, kernel_size=200, activation='relu')(model_1D)\n",
    "pool1 = MaxPooling1D(pool_size=2)(conv1)\n",
    "bat1 = BatchNormalization()(pool1)\n",
    "conv2 = Conv1D(filters=32, kernel_size=100, activation='relu')(bat1)\n",
    "pool2 = MaxPooling1D(pool_size=2)(conv2)\n",
    "bat2 = BatchNormalization()(pool2)\n",
    "conv3 = Conv1D(filters=16, kernel_size=50, activation='relu')(bat2)\n",
    "pool3 = MaxPooling1D(pool_size=2)(conv3)\n",
    "drop1 = Dropout(0.5)(pool3)\n",
    "lstm1 = LSTM(64)(drop1)\n",
    "flat1 = Flatten()(lstm1)\n",
    "\n",
    "#model 2\n",
    "model2_1D = Input(shape=(X_freq.shape[1],X_freq.shape[2]))\n",
    "conv1_freq = Conv1D(filters=16, kernel_size=200, activation='relu')(model2_1D)\n",
    "pool1_freq = MaxPooling1D(pool_size=2)(conv1_freq)\n",
    "bat1_freq = BatchNormalization()(pool1_freq)\n",
    "conv2_freq = Conv1D(filters=32, kernel_size=100, activation='relu')(bat1_freq)\n",
    "pool2_freq = MaxPooling1D(pool_size=2)(conv2_freq)\n",
    "bat2_freq = BatchNormalization()(pool2_freq)\n",
    "conv3_freq = Conv1D(filters=16, kernel_size=50, activation='relu')(bat2_freq)\n",
    "pool3_freq = MaxPooling1D(pool_size=2)(conv3_freq)\n",
    "drop1_freq = Dropout(0.5)(pool3_freq)\n",
    "lstm1_freq = LSTM(64)(drop1_freq)\n",
    "flat1_freq = Flatten()(pool3_freq)\n",
    "\n",
    "\n",
    "merged = concatenate([flat1, flat1_freq])\n",
    "dense1 = Dense(300, activation='relu')(merged)\n",
    "dense2 = Dense(64, activation='relu')(lstm1)\n",
    "outputs = Dense(no_classes, activation='softmax')(dense2)\n",
    "# interpretation\n",
    "model_combined = Model(inputs=[model_1D, model2_1D], outputs=outputs)\n",
    "\n",
    "model_combined.summary()\n",
    "\n",
    "model_combined.compile(loss='binary_crossentropy', optimizer='adam',metrics=['accuracy'])"
   ]
  },
  {
   "cell_type": "code",
   "execution_count": 24,
   "id": "4e5803f3",
   "metadata": {},
   "outputs": [
    {
     "name": "stderr",
     "output_type": "stream",
     "text": [
      "2022-06-04 19:17:23.725245: W tensorflow/core/platform/profile_utils/cpu_utils.cc:128] Failed to get CPU frequency: 0 Hz\n"
     ]
    },
    {
     "name": "stdout",
     "output_type": "stream",
     "text": [
      "Epoch 1/70\n",
      "39/39 [==============================] - 19s 459ms/step - loss: 0.4451 - accuracy: 0.1584 - val_loss: 0.3245 - val_accuracy: 0.1087\n",
      "Epoch 2/70\n",
      "39/39 [==============================] - 18s 464ms/step - loss: 0.2795 - accuracy: 0.2983 - val_loss: 0.2976 - val_accuracy: 0.2953\n",
      "Epoch 3/70\n",
      "39/39 [==============================] - 19s 499ms/step - loss: 0.2324 - accuracy: 0.4313 - val_loss: 0.3642 - val_accuracy: 0.2884\n",
      "Epoch 4/70\n",
      "39/39 [==============================] - 20s 510ms/step - loss: 0.2000 - accuracy: 0.5057 - val_loss: 0.3854 - val_accuracy: 0.2938\n",
      "Epoch 5/70\n",
      "39/39 [==============================] - 21s 529ms/step - loss: 0.1775 - accuracy: 0.5709 - val_loss: 0.3814 - val_accuracy: 0.3662\n",
      "Epoch 6/70\n",
      "39/39 [==============================] - 22s 566ms/step - loss: 0.1596 - accuracy: 0.6201 - val_loss: 0.4134 - val_accuracy: 0.3971\n",
      "Epoch 7/70\n",
      "39/39 [==============================] - 25s 652ms/step - loss: 0.1483 - accuracy: 0.6431 - val_loss: 0.4652 - val_accuracy: 0.3901\n",
      "Epoch 8/70\n",
      "39/39 [==============================] - 30s 782ms/step - loss: 0.1371 - accuracy: 0.6712 - val_loss: 0.4461 - val_accuracy: 0.4148\n",
      "Epoch 9/70\n",
      "39/39 [==============================] - 47s 1s/step - loss: 0.1267 - accuracy: 0.6956 - val_loss: 0.4408 - val_accuracy: 0.3878\n",
      "Epoch 10/70\n",
      "39/39 [==============================] - 55s 1s/step - loss: 0.1215 - accuracy: 0.7062 - val_loss: 0.5005 - val_accuracy: 0.3847\n",
      "Epoch 11/70\n",
      "39/39 [==============================] - 46s 1s/step - loss: 0.1164 - accuracy: 0.7104 - val_loss: 0.3327 - val_accuracy: 0.4649\n",
      "Epoch 12/70\n",
      "39/39 [==============================] - 44s 1s/step - loss: 0.1112 - accuracy: 0.7304 - val_loss: 0.4473 - val_accuracy: 0.4402\n",
      "Epoch 13/70\n",
      "39/39 [==============================] - 44s 1s/step - loss: 0.1080 - accuracy: 0.7326 - val_loss: 0.2195 - val_accuracy: 0.5474\n",
      "Epoch 14/70\n",
      "39/39 [==============================] - 46s 1s/step - loss: 0.1020 - accuracy: 0.7457 - val_loss: 0.2463 - val_accuracy: 0.5536\n",
      "Epoch 15/70\n",
      "39/39 [==============================] - 47s 1s/step - loss: 0.0997 - accuracy: 0.7564 - val_loss: 0.2429 - val_accuracy: 0.5166\n",
      "Epoch 16/70\n",
      "39/39 [==============================] - 53s 1s/step - loss: 0.0948 - accuracy: 0.7662 - val_loss: 0.2264 - val_accuracy: 0.5690\n",
      "Epoch 17/70\n",
      "39/39 [==============================] - 50s 1s/step - loss: 0.0923 - accuracy: 0.7671 - val_loss: 0.2166 - val_accuracy: 0.5829\n",
      "Epoch 18/70\n",
      "39/39 [==============================] - 49s 1s/step - loss: 0.0862 - accuracy: 0.7845 - val_loss: 0.2715 - val_accuracy: 0.5536\n",
      "Epoch 19/70\n",
      "39/39 [==============================] - 66s 2s/step - loss: 0.0844 - accuracy: 0.7921 - val_loss: 0.1847 - val_accuracy: 0.6052\n",
      "Epoch 20/70\n",
      "39/39 [==============================] - 79s 2s/step - loss: 0.0790 - accuracy: 0.8046 - val_loss: 0.2172 - val_accuracy: 0.5991\n",
      "Epoch 21/70\n",
      "39/39 [==============================] - 89s 2s/step - loss: 0.0736 - accuracy: 0.8167 - val_loss: 0.1865 - val_accuracy: 0.6106\n",
      "Epoch 22/70\n",
      "39/39 [==============================] - 65s 2s/step - loss: 0.0692 - accuracy: 0.8240 - val_loss: 0.1508 - val_accuracy: 0.6785\n",
      "Epoch 23/70\n",
      "39/39 [==============================] - 64s 2s/step - loss: 0.0681 - accuracy: 0.8287 - val_loss: 0.1988 - val_accuracy: 0.6284\n",
      "Epoch 24/70\n",
      "39/39 [==============================] - 66s 2s/step - loss: 0.0640 - accuracy: 0.8381 - val_loss: 0.1524 - val_accuracy: 0.6847\n",
      "Epoch 25/70\n",
      "39/39 [==============================] - 64s 2s/step - loss: 0.0609 - accuracy: 0.8489 - val_loss: 0.1262 - val_accuracy: 0.7255\n",
      "Epoch 26/70\n",
      "39/39 [==============================] - 51s 1s/step - loss: 0.0563 - accuracy: 0.8585 - val_loss: 0.1260 - val_accuracy: 0.7402\n",
      "Epoch 27/70\n",
      "39/39 [==============================] - 50s 1s/step - loss: 0.0541 - accuracy: 0.8644 - val_loss: 0.1347 - val_accuracy: 0.7209\n",
      "Epoch 28/70\n",
      "39/39 [==============================] - 47s 1s/step - loss: 0.0487 - accuracy: 0.8770 - val_loss: 0.1314 - val_accuracy: 0.7494\n",
      "Epoch 29/70\n",
      "39/39 [==============================] - 48s 1s/step - loss: 0.0497 - accuracy: 0.8761 - val_loss: 0.1347 - val_accuracy: 0.7417\n",
      "Epoch 30/70\n",
      "39/39 [==============================] - 47s 1s/step - loss: 0.0469 - accuracy: 0.8817 - val_loss: 0.1606 - val_accuracy: 0.7086\n",
      "Epoch 31/70\n",
      "39/39 [==============================] - 49s 1s/step - loss: 0.0452 - accuracy: 0.8912 - val_loss: 0.1361 - val_accuracy: 0.7317\n",
      "Epoch 32/70\n",
      "39/39 [==============================] - 59s 2s/step - loss: 0.0426 - accuracy: 0.8976 - val_loss: 0.1676 - val_accuracy: 0.6916\n",
      "Epoch 33/70\n",
      "39/39 [==============================] - 57s 1s/step - loss: 0.0412 - accuracy: 0.9014 - val_loss: 0.1222 - val_accuracy: 0.7633\n",
      "Epoch 34/70\n",
      "39/39 [==============================] - 68s 2s/step - loss: 0.0399 - accuracy: 0.9082 - val_loss: 0.1180 - val_accuracy: 0.7849\n",
      "Epoch 35/70\n",
      "39/39 [==============================] - 73s 2s/step - loss: 0.0386 - accuracy: 0.9139 - val_loss: 0.1272 - val_accuracy: 0.7810\n",
      "Epoch 36/70\n",
      "39/39 [==============================] - 78s 2s/step - loss: 0.0360 - accuracy: 0.9232 - val_loss: 0.1360 - val_accuracy: 0.7664\n",
      "Epoch 37/70\n",
      "39/39 [==============================] - 64s 2s/step - loss: 0.0310 - accuracy: 0.9361 - val_loss: 0.1700 - val_accuracy: 0.7255\n",
      "Epoch 38/70\n",
      "39/39 [==============================] - 58s 1s/step - loss: 0.0258 - accuracy: 0.9509 - val_loss: 0.1237 - val_accuracy: 0.7911\n",
      "Epoch 39/70\n",
      "39/39 [==============================] - 53s 1s/step - loss: 0.0257 - accuracy: 0.9499 - val_loss: 0.1328 - val_accuracy: 0.7818\n",
      "Epoch 40/70\n",
      "39/39 [==============================] - 48s 1s/step - loss: 0.0237 - accuracy: 0.9574 - val_loss: 0.1091 - val_accuracy: 0.8188\n",
      "Epoch 41/70\n",
      "39/39 [==============================] - 52s 1s/step - loss: 0.0193 - accuracy: 0.9654 - val_loss: 0.1042 - val_accuracy: 0.8342\n",
      "Epoch 42/70\n",
      "39/39 [==============================] - 52s 1s/step - loss: 0.0148 - accuracy: 0.9764 - val_loss: 0.1226 - val_accuracy: 0.8142\n",
      "Epoch 43/70\n",
      "39/39 [==============================] - 46s 1s/step - loss: 0.0169 - accuracy: 0.9715 - val_loss: 0.1246 - val_accuracy: 0.8065\n",
      "Epoch 44/70\n",
      "39/39 [==============================] - 49s 1s/step - loss: 0.0147 - accuracy: 0.9753 - val_loss: 0.1837 - val_accuracy: 0.7456\n",
      "Epoch 45/70\n",
      "39/39 [==============================] - 48s 1s/step - loss: 0.0110 - accuracy: 0.9842 - val_loss: 0.1036 - val_accuracy: 0.8458\n",
      "Epoch 46/70\n",
      "39/39 [==============================] - 49s 1s/step - loss: 0.0130 - accuracy: 0.9781 - val_loss: 0.1222 - val_accuracy: 0.8273\n",
      "Epoch 47/70\n",
      "39/39 [==============================] - 58s 1s/step - loss: 0.0125 - accuracy: 0.9794 - val_loss: 0.1138 - val_accuracy: 0.8242\n",
      "Epoch 48/70\n",
      "39/39 [==============================] - 53s 1s/step - loss: 0.0124 - accuracy: 0.9783 - val_loss: 0.0997 - val_accuracy: 0.8473\n",
      "Epoch 49/70\n",
      "39/39 [==============================] - 62s 2s/step - loss: 0.0104 - accuracy: 0.9831 - val_loss: 0.1061 - val_accuracy: 0.8412\n",
      "Epoch 50/70\n",
      "39/39 [==============================] - 54s 1s/step - loss: 0.0083 - accuracy: 0.9862 - val_loss: 0.1265 - val_accuracy: 0.8211\n",
      "Epoch 51/70\n",
      "39/39 [==============================] - 54s 1s/step - loss: 0.0065 - accuracy: 0.9902 - val_loss: 0.1031 - val_accuracy: 0.8527\n",
      "Epoch 52/70\n",
      "39/39 [==============================] - 55s 1s/step - loss: 0.0065 - accuracy: 0.9900 - val_loss: 0.1076 - val_accuracy: 0.8489\n",
      "Epoch 53/70\n",
      "39/39 [==============================] - 47s 1s/step - loss: 0.0060 - accuracy: 0.9916 - val_loss: 0.1259 - val_accuracy: 0.8273\n",
      "Epoch 54/70\n",
      "39/39 [==============================] - 55s 1s/step - loss: 0.0064 - accuracy: 0.9908 - val_loss: 0.1182 - val_accuracy: 0.8288\n",
      "Epoch 55/70\n",
      "39/39 [==============================] - 56s 1s/step - loss: 0.0061 - accuracy: 0.9895 - val_loss: 0.1146 - val_accuracy: 0.8450\n",
      "Epoch 56/70\n",
      "39/39 [==============================] - 48s 1s/step - loss: 0.0072 - accuracy: 0.9889 - val_loss: 0.1166 - val_accuracy: 0.8404\n",
      "Epoch 57/70\n",
      "39/39 [==============================] - 49s 1s/step - loss: 0.0049 - accuracy: 0.9925 - val_loss: 0.1160 - val_accuracy: 0.8504\n",
      "Epoch 58/70\n",
      "39/39 [==============================] - 49s 1s/step - loss: 0.0046 - accuracy: 0.9932 - val_loss: 0.1108 - val_accuracy: 0.8543\n",
      "Epoch 59/70\n",
      "39/39 [==============================] - 47s 1s/step - loss: 0.0066 - accuracy: 0.9892 - val_loss: 0.1453 - val_accuracy: 0.8173\n",
      "Epoch 60/70\n",
      "39/39 [==============================] - 45s 1s/step - loss: 0.0076 - accuracy: 0.9863 - val_loss: 0.1464 - val_accuracy: 0.8211\n",
      "Epoch 61/70\n",
      "39/39 [==============================] - 43s 1s/step - loss: 0.0050 - accuracy: 0.9935 - val_loss: 0.1113 - val_accuracy: 0.8443\n",
      "Epoch 62/70\n",
      "39/39 [==============================] - 41s 1s/step - loss: 0.0035 - accuracy: 0.9955 - val_loss: 0.1763 - val_accuracy: 0.7934\n",
      "Epoch 63/70\n",
      "39/39 [==============================] - 42s 1s/step - loss: 0.0045 - accuracy: 0.9928 - val_loss: 0.1200 - val_accuracy: 0.8381\n",
      "Epoch 64/70\n",
      "39/39 [==============================] - 45s 1s/step - loss: 0.0050 - accuracy: 0.9919 - val_loss: 0.1545 - val_accuracy: 0.8227\n",
      "Epoch 65/70\n",
      "39/39 [==============================] - 47s 1s/step - loss: 0.0044 - accuracy: 0.9935 - val_loss: 0.1364 - val_accuracy: 0.8319\n",
      "Epoch 66/70\n",
      "39/39 [==============================] - 49s 1s/step - loss: 0.0041 - accuracy: 0.9937 - val_loss: 0.0964 - val_accuracy: 0.8666\n",
      "Epoch 67/70\n",
      "39/39 [==============================] - 44s 1s/step - loss: 0.0034 - accuracy: 0.9947 - val_loss: 0.1234 - val_accuracy: 0.8435\n",
      "Epoch 68/70\n",
      "39/39 [==============================] - 42s 1s/step - loss: 0.0043 - accuracy: 0.9927 - val_loss: 0.1161 - val_accuracy: 0.8604\n",
      "Epoch 69/70\n",
      "39/39 [==============================] - 47s 1s/step - loss: 0.0029 - accuracy: 0.9957 - val_loss: 0.1120 - val_accuracy: 0.8635\n",
      "Epoch 70/70\n",
      "39/39 [==============================] - 48s 1s/step - loss: 0.0044 - accuracy: 0.9924 - val_loss: 0.1129 - val_accuracy: 0.8581\n"
     ]
    }
   ],
   "source": [
    "batch_size =300\n",
    "epochs = 70\n",
    "history = model_combined.fit((X_train,X_train_freq),y_train,batch_size=batch_size,epochs=epochs,verbose=1,validation_split=0.1,shuffle=True)"
   ]
  },
  {
   "cell_type": "code",
   "execution_count": 25,
   "id": "ff14d204",
   "metadata": {},
   "outputs": [
    {
     "name": "stdout",
     "output_type": "stream",
     "text": [
      "[0.1282919943332672, 0.8438753485679626]\n",
      "Test loss: 0.1282919943332672\n",
      "Test accuracy: 0.8438753485679626\n"
     ]
    },
    {
     "data": {
      "image/png": "[encoded data removed]",
      "text/plain": [
       "<Figure size 720x720 with 2 Axes>"
      ]
     },
     "metadata": {
      "needs_background": "light"
     },
     "output_type": "display_data"
    }
   ],
   "source": [
    "def inv_Transform_result(y_pred):    \n",
    "    y_pred = y_pred.argmax(axis=1)\n",
    "    y_pred = encoder.inverse_transform(y_pred)\n",
    "    return y_pred\n",
    "\n",
    "\n",
    "\n",
    "# y_pred=cnn_model.predict(X_test)\n",
    "\n",
    "# score = cnn_model.evaluate(X_test, y_test, verbose = 0) \n",
    "\n",
    "y_pred=model_combined.predict([X_test,X_test_freq])\n",
    "\n",
    "score = model_combined.evaluate([X_test,X_test_freq], [y_test,y_test_freq], verbose = 0) \n",
    "print(score)\n",
    "Y_pred=inv_Transform_result(y_pred)\n",
    "Y_test = inv_Transform_result(y_test)\n",
    "\n",
    "\n",
    "print('Test loss:', score[0]) \n",
    "print('Test accuracy:', score[1])\n",
    "\n",
    "Y_pred=inv_Transform_result(y_pred)\n",
    "Y_test = inv_Transform_result(y_test)\n",
    "\n",
    "\n",
    "\n",
    "\n",
    "from sklearn.metrics import confusion_matrix\n",
    "\n",
    "\n",
    "plt.figure(figsize=(10,10))\n",
    "cm = confusion_matrix(Y_test, Y_pred,normalize='true')\n",
    "f = sns.heatmap(cm, annot=True,xticklabels=encoder.classes_,yticklabels=encoder.classes_)\n",
    "plt.show()"
   ]
  },
  {
   "cell_type": "code",
   "execution_count": 26,
   "id": "7c1789fa-2a76-4b76-926d-7b0f981f2608",
   "metadata": {},
   "outputs": [
    {
     "name": "stdout",
     "output_type": "stream",
     "text": [
      "Recall:  tf.Tensor(0.8423326, shape=(), dtype=float32)\n",
      "Precision:  tf.Tensor(0.84598696, shape=(), dtype=float32)\n",
      "F1 Score:  tf.Tensor(0.8441557, shape=(), dtype=float32)\n"
     ]
    }
   ],
   "source": [
    "from keras import backend as K\n",
    "\n",
    "def recall_m(y_true, y_pred):\n",
    "    true_positives = K.sum(K.round(K.clip(y_true * y_pred, 0, 1)))\n",
    "    possible_positives = K.sum(K.round(K.clip(y_true, 0, 1)))\n",
    "    recall = true_positives / (possible_positives + K.epsilon())\n",
    "    return recall \n",
    "\n",
    "def precision_m(y_true, y_pred):\n",
    "    true_positives = K.sum(K.round(K.clip(y_true * y_pred, 0, 1)))\n",
    "    predicted_positives = K.sum(K.round(K.clip(y_pred, 0, 1)))\n",
    "    precision = true_positives / (predicted_positives + K.epsilon())\n",
    "    return precision\n",
    "\n",
    "def f1_m(y_true, y_pred):\n",
    "    precision = precision_m(y_true, y_pred)\n",
    "    recall = recall_m(y_true, y_pred)\n",
    "    return 2*((precision*recall)/(precision+recall+K.epsilon()))\n",
    "\n",
    "recall = recall_m(y_test,y_pred)\n",
    "\n",
    "print(\"Recall: \",recall)\n",
    "print(\"Precision: \",precision_m(y_test,y_pred))\n",
    "print(\"F1 Score: \" ,f1_m(y_test,y_pred))"
   ]
  },
  {
   "cell_type": "code",
   "execution_count": 35,
   "id": "1d1715f1",
   "metadata": {},
   "outputs": [
    {
     "ename": "ValueError",
     "evalue": "The truth value of an array with more than one element is ambiguous. Use a.any() or a.all()",
     "output_type": "error",
     "traceback": [
      "\u001b[0;31m---------------------------------------------------------------------------\u001b[0m",
      "\u001b[0;31mValueError\u001b[0m                                Traceback (most recent call last)",
      "Input \u001b[0;32mIn [35]\u001b[0m, in \u001b[0;36m<module>\u001b[0;34m\u001b[0m\n\u001b[1;32m      1\u001b[0m dummy_combined_model \u001b[38;5;241m=\u001b[39m Model(inputs\u001b[38;5;241m=\u001b[39mmodel_combined\u001b[38;5;241m.\u001b[39minput,outputs\u001b[38;5;241m=\u001b[39mmodel_combined\u001b[38;5;241m.\u001b[39mlayers[\u001b[38;5;241m8\u001b[39m]\u001b[38;5;241m.\u001b[39moutput)\n\u001b[0;32m----> 2\u001b[0m y_viz \u001b[38;5;241m=\u001b[39m \u001b[43mdummy_combined_model\u001b[49m\u001b[38;5;241;43m.\u001b[39;49m\u001b[43mpredict\u001b[49m\u001b[43m(\u001b[49m\u001b[43mX_train\u001b[49m\u001b[43m,\u001b[49m\u001b[43mX_train_freq\u001b[49m\u001b[43m)\u001b[49m\u001b[38;5;241m.\u001b[39many()\n",
      "File \u001b[0;32m~/miniforge3/envs/pytorch_m1/lib/python3.8/site-packages/keras/utils/traceback_utils.py:67\u001b[0m, in \u001b[0;36mfilter_traceback.<locals>.error_handler\u001b[0;34m(*args, **kwargs)\u001b[0m\n\u001b[1;32m     65\u001b[0m \u001b[38;5;28;01mexcept\u001b[39;00m \u001b[38;5;167;01mException\u001b[39;00m \u001b[38;5;28;01mas\u001b[39;00m e:  \u001b[38;5;66;03m# pylint: disable=broad-except\u001b[39;00m\n\u001b[1;32m     66\u001b[0m   filtered_tb \u001b[38;5;241m=\u001b[39m _process_traceback_frames(e\u001b[38;5;241m.\u001b[39m__traceback__)\n\u001b[0;32m---> 67\u001b[0m   \u001b[38;5;28;01mraise\u001b[39;00m e\u001b[38;5;241m.\u001b[39mwith_traceback(filtered_tb) \u001b[38;5;28;01mfrom\u001b[39;00m \u001b[38;5;28mNone\u001b[39m\n\u001b[1;32m     68\u001b[0m \u001b[38;5;28;01mfinally\u001b[39;00m:\n\u001b[1;32m     69\u001b[0m   \u001b[38;5;28;01mdel\u001b[39;00m filtered_tb\n",
      "File \u001b[0;32m~/miniforge3/envs/pytorch_m1/lib/python3.8/site-packages/keras/engine/data_adapter.py:250\u001b[0m, in \u001b[0;36mTensorLikeDataAdapter.__init__\u001b[0;34m(self, x, y, sample_weights, sample_weight_modes, batch_size, epochs, steps, shuffle, **kwargs)\u001b[0m\n\u001b[1;32m    246\u001b[0m _check_data_cardinality(inputs)\n\u001b[1;32m    248\u001b[0m \u001b[38;5;66;03m# If batch_size is not passed but steps is, calculate from the input data.\u001b[39;00m\n\u001b[1;32m    249\u001b[0m \u001b[38;5;66;03m# Default to 32 for backwards compat.\u001b[39;00m\n\u001b[0;32m--> 250\u001b[0m \u001b[38;5;28;01mif\u001b[39;00m \u001b[38;5;129;01mnot\u001b[39;00m batch_size:\n\u001b[1;32m    251\u001b[0m   batch_size \u001b[38;5;241m=\u001b[39m \u001b[38;5;28mint\u001b[39m(math\u001b[38;5;241m.\u001b[39mceil(num_samples \u001b[38;5;241m/\u001b[39m steps)) \u001b[38;5;28;01mif\u001b[39;00m steps \u001b[38;5;28;01melse\u001b[39;00m \u001b[38;5;241m32\u001b[39m\n\u001b[1;32m    253\u001b[0m \u001b[38;5;28mself\u001b[39m\u001b[38;5;241m.\u001b[39m_size \u001b[38;5;241m=\u001b[39m \u001b[38;5;28mint\u001b[39m(math\u001b[38;5;241m.\u001b[39mceil(num_samples \u001b[38;5;241m/\u001b[39m batch_size))\n",
      "\u001b[0;31mValueError\u001b[0m: The truth value of an array with more than one element is ambiguous. Use a.any() or a.all()"
     ]
    }
   ],
   "source": [
    "dummy_combined_model = Model(inputs=model_combined.input,outputs=model_combined.layers[8].output)\n",
    "y_viz = dummy_combined_model.predict(X_train,X_train_freq)"
   ]
  },
  {
   "cell_type": "code",
   "execution_count": null,
   "id": "c81bccd7",
   "metadata": {},
   "outputs": [
    {
     "ename": "NameError",
     "evalue": "name 'y_viz' is not defined",
     "output_type": "error",
     "traceback": [
      "\u001b[0;31m---------------------------------------------------------------------------\u001b[0m",
      "\u001b[0;31mNameError\u001b[0m                                 Traceback (most recent call last)",
      "Input \u001b[0;32mIn [29]\u001b[0m, in \u001b[0;36m<module>\u001b[0;34m\u001b[0m\n\u001b[1;32m      1\u001b[0m \u001b[38;5;28;01mfrom\u001b[39;00m \u001b[38;5;21;01msklearn\u001b[39;00m\u001b[38;5;21;01m.\u001b[39;00m\u001b[38;5;21;01mmanifold\u001b[39;00m \u001b[38;5;28;01mimport\u001b[39;00m TSNE\n\u001b[0;32m----> 3\u001b[0m X_t_sne \u001b[38;5;241m=\u001b[39m TSNE(n_components\u001b[38;5;241m=\u001b[39m\u001b[38;5;241m2\u001b[39m, learning_rate\u001b[38;5;241m=\u001b[39m\u001b[38;5;124m'\u001b[39m\u001b[38;5;124mauto\u001b[39m\u001b[38;5;124m'\u001b[39m,verbose\u001b[38;5;241m=\u001b[39m\u001b[38;5;241m1\u001b[39m, perplexity\u001b[38;5;241m=\u001b[39m\u001b[38;5;241m40\u001b[39m, n_iter\u001b[38;5;241m=\u001b[39m\u001b[38;5;241m300\u001b[39m)\u001b[38;5;241m.\u001b[39mfit_transform(\u001b[43my_viz\u001b[49m)\n\u001b[1;32m      5\u001b[0m tSNEdf \u001b[38;5;241m=\u001b[39m pd\u001b[38;5;241m.\u001b[39mDataFrame(data \u001b[38;5;241m=\u001b[39m X_t_sne, columns \u001b[38;5;241m=\u001b[39m [\u001b[38;5;124m'\u001b[39m\u001b[38;5;124mT-SNE component 1\u001b[39m\u001b[38;5;124m'\u001b[39m, \u001b[38;5;124m'\u001b[39m\u001b[38;5;124mT-SNE component 2\u001b[39m\u001b[38;5;124m'\u001b[39m])\n\u001b[1;32m      7\u001b[0m tSNEdf[\u001b[38;5;124m'\u001b[39m\u001b[38;5;124mFault\u001b[39m\u001b[38;5;124m'\u001b[39m]\u001b[38;5;241m=\u001b[39minv_Transform_result(y_train)\n",
      "\u001b[0;31mNameError\u001b[0m: name 'y_viz' is not defined"
     ]
    }
   ],
   "source": [
    "from sklearn.manifold import TSNE\n",
    "\n",
    "X_t_sne = TSNE(n_components=2, learning_rate='auto',verbose=1, perplexity=40, n_iter=300).fit_transform(y_viz)\n",
    "\n",
    "tSNEdf = pd.DataFrame(data = X_t_sne, columns = ['T-SNE component 1', 'T-SNE component 2'])\n",
    "\n",
    "tSNEdf['Fault']=inv_Transform_result(y_train)\n",
    "\n",
    "\n",
    "# Plot the PC-1 and PC-2\n",
    "fig, ax = plt.subplots(figsize=(10,10))\n",
    "sns.scatterplot(x=tSNEdf['T-SNE component 1'],y=tSNEdf['T-SNE component 2'],hue='Fault',\n",
    "    data=tSNEdf,\n",
    "    legend=\"full\",\n",
    "    alpha=0.3)\n",
    "plt.show()"
   ]
  },
  {
   "cell_type": "code",
   "execution_count": null,
   "id": "b443d11b",
   "metadata": {},
   "outputs": [],
   "source": []
  }
 ],
 "metadata": {
  "kernelspec": {
   "display_name": "Python 3 (ipykernel)",
   "language": "python",
   "name": "python3"
  },
  "language_info": {
   "codemirror_mode": {
    "name": "ipython",
    "version": 3
   },
   "file_extension": ".py",
   "mimetype": "text/x-python",
   "name": "python",
   "nbconvert_exporter": "python",
   "pygments_lexer": "ipython3",
   "version": "3.8.12"
  }
 },
 "nbformat": 4,
 "nbformat_minor": 5
}
