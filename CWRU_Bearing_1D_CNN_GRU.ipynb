{
 "cells": [
  {
   "cell_type": "code",
   "execution_count": 1,
   "id": "a20d1bd3",
   "metadata": {},
   "outputs": [],
   "source": [
    "import scipy.io\n",
    "import seaborn as sns\n",
    "import numpy as np\n",
    "import pandas as pd\n",
    "import os\n",
    "import matplotlib.pyplot as plt"
   ]
  },
  {
   "cell_type": "code",
   "execution_count": 2,
   "id": "41c292e8",
   "metadata": {},
   "outputs": [],
   "source": [
    "df = pd.read_csv('2hp_all_faults_1750.csv')"
   ]
  },
  {
   "cell_type": "code",
   "execution_count": 3,
   "id": "a37802cc-9f86-4595-ac6f-325a9ca74e7c",
   "metadata": {},
   "outputs": [],
   "source": [
    "df = df[df['fault'] != '21_OR2']\n",
    "df = df[df['fault'] != '21_OR3']\n",
    "df = df[df['fault'] != '7_OR2']\n",
    "df = df[df['fault'] != '7_OR3']"
   ]
  },
  {
   "cell_type": "code",
   "execution_count": 4,
   "id": "5367e285-32b2-454c-a6c7-2cd273cd8b37",
   "metadata": {},
   "outputs": [
    {
     "data": {
      "text/plain": [
       "(4872100, 2)"
      ]
     },
     "execution_count": 4,
     "metadata": {},
     "output_type": "execute_result"
    }
   ],
   "source": [
    "df.shape"
   ]
  },
  {
   "cell_type": "code",
   "execution_count": 4,
   "id": "2d89cdf7-de30-42cc-b483-8ed8101ba416",
   "metadata": {},
   "outputs": [
    {
     "data": {
      "text/plain": [
       "array(['21_BA', 'N', '21_IR', '21_OR1', '14_BA', '7_IR', '7_OR1', '14_IR',\n",
       "       '7_BA', '14_OR1'], dtype=object)"
      ]
     },
     "execution_count": 4,
     "metadata": {},
     "output_type": "execute_result"
    }
   ],
   "source": [
    "df['fault'].unique()"
   ]
  },
  {
   "cell_type": "code",
   "execution_count": 5,
   "id": "af0356f1-755d-41a7-a95d-6f81623a7e80",
   "metadata": {},
   "outputs": [
    {
     "name": "stdout",
     "output_type": "stream",
     "text": [
      "0.23307969559679226\n",
      "-4.154496620542242\n"
     ]
    }
   ],
   "source": [
    "np.random.normal(0, 1, df.shape[0])\n",
    "signal_energy = np.mean(df['DE_data']**2)\n",
    "print(signal_energy)\n",
    "white_noise_1 = np.clip(np.random.normal(0, 1, df.shape[0]), -1.2, 1.1) # -4.5\n",
    "signal_energy = np.mean(df['DE_data']**2)\n",
    "noise_energy = np.mean(white_noise_1**2)\n",
    "SNR =  10*np.log10(signal_energy/noise_energy)\n",
    "print(SNR)"
   ]
  },
  {
   "cell_type": "code",
   "execution_count": 6,
   "id": "19ab0e06-6f43-4e0b-a950-e179f70d9ee2",
   "metadata": {},
   "outputs": [],
   "source": [
    "df['DE_data'] = df['DE_data'] + white_noise_1"
   ]
  },
  {
   "cell_type": "code",
   "execution_count": 7,
   "id": "25915106",
   "metadata": {},
   "outputs": [
    {
     "name": "stdout",
     "output_type": "stream",
     "text": [
      "(16205, 1, 1200)\n"
     ]
    }
   ],
   "source": [
    "from sklearn.preprocessing import LabelEncoder\n",
    "from tensorflow.keras.utils import to_categorical\n",
    "\n",
    "win_len=1200\n",
    "stride=300\n",
    "\n",
    "X=[]\n",
    "Y=[]\n",
    "\n",
    "\n",
    "for k in df['fault'].unique():\n",
    "    \n",
    "    df_temp_2 = df[df['fault']==k]\n",
    "    \n",
    "    for i in np.arange(0,len(df_temp_2)-(win_len),stride):\n",
    "        temp = df_temp_2.iloc[i:i+win_len,:-1].values\n",
    "        temp = temp.reshape((1,-1))\n",
    "        X.append(temp)\n",
    "        Y.append(df_temp_2.iloc[i+win_len,-1])\n",
    "    \n",
    "X=np.array(X)\n",
    "print(X.shape)\n",
    "X=X.reshape((X.shape[0],-1,1))\n",
    "#X = np.repeat(X, 3, axis=3) # To repeat into 3 chanel format\n",
    "\n",
    "\n",
    "Y=np.array(Y)\n",
    "encoder= LabelEncoder()\n",
    "encoder.fit(Y)\n",
    "encoded_Y = encoder.transform(Y)\n",
    "OHE_Y = to_categorical(encoded_Y)"
   ]
  },
  {
   "cell_type": "code",
   "execution_count": 8,
   "id": "06cef386",
   "metadata": {},
   "outputs": [
    {
     "data": {
      "text/plain": [
       "(16205, 1200, 1)"
      ]
     },
     "execution_count": 8,
     "metadata": {},
     "output_type": "execute_result"
    }
   ],
   "source": [
    "X.shape"
   ]
  },
  {
   "cell_type": "code",
   "execution_count": 9,
   "id": "3efdc769",
   "metadata": {},
   "outputs": [],
   "source": [
    "from sklearn.model_selection import train_test_split\n",
    "X_train,X_test,y_train,y_test = train_test_split(X,OHE_Y,test_size=0.2,shuffle=True)\n"
   ]
  },
  {
   "cell_type": "code",
   "execution_count": 10,
   "id": "861daf3e",
   "metadata": {},
   "outputs": [
    {
     "name": "stdout",
     "output_type": "stream",
     "text": [
      "Model: \"sequential\"\n",
      "_________________________________________________________________\n",
      " Layer (type)                Output Shape              Param #   \n",
      "=================================================================\n",
      " conv1d (Conv1D)             (None, 1001, 16)          3216      \n",
      "                                                                 \n",
      " max_pooling1d (MaxPooling1D  (None, 500, 16)          0         \n",
      " )                                                               \n",
      "                                                                 \n",
      " batch_normalization (BatchN  (None, 500, 16)          64        \n",
      " ormalization)                                                   \n",
      "                                                                 \n",
      " conv1d_1 (Conv1D)           (None, 401, 32)           51232     \n",
      "                                                                 \n",
      " max_pooling1d_1 (MaxPooling  (None, 200, 32)          0         \n",
      " 1D)                                                             \n",
      "                                                                 \n",
      " batch_normalization_1 (Batc  (None, 200, 32)          128       \n",
      " hNormalization)                                                 \n",
      "                                                                 \n",
      " conv1d_2 (Conv1D)           (None, 151, 64)           102464    \n",
      "                                                                 \n",
      " dropout (Dropout)           (None, 151, 64)           0         \n",
      "                                                                 \n",
      " gru (GRU)                   (None, 32)                9408      \n",
      "                                                                 \n",
      " dense (Dense)               (None, 10)                330       \n",
      "                                                                 \n",
      "=================================================================\n",
      "Total params: 166,842\n",
      "Trainable params: 166,746\n",
      "Non-trainable params: 96\n",
      "_________________________________________________________________\n"
     ]
    }
   ],
   "source": [
    "from tensorflow.keras.models import Sequential,Model\n",
    "from tensorflow.keras.layers import Input,Dense, Dropout, Flatten\n",
    "from tensorflow.keras.layers import Conv2D, MaxPooling2D,Conv1D,MaxPooling1D\n",
    "from tensorflow.keras.layers import GRU\n",
    "from keras.layers import BatchNormalization\n",
    "\n",
    "# from tensorflow.keras.models import load_model\n",
    "# cnn_model = load_model(r'H:\\Gear Fault\\Trained Model\\CNN_model_gear.h5')\n",
    "\n",
    "\n",
    "\n",
    "no_classes = len(df['fault'].unique())\n",
    "\n",
    "cnn_model = Sequential()\n",
    "cnn_model.add(Conv1D(filters=16, kernel_size=200, activation='relu', input_shape=(X.shape[1],X.shape[2])))\n",
    "cnn_model.add(MaxPooling1D(pool_size=2))\n",
    "cnn_model.add(BatchNormalization())\n",
    "cnn_model.add(Conv1D(filters=32, kernel_size=100, activation='relu'))\n",
    "cnn_model.add(MaxPooling1D(pool_size=2))\n",
    "cnn_model.add(BatchNormalization())\n",
    "cnn_model.add(Conv1D(filters=64, kernel_size=50, activation='relu'))\n",
    "# cnn_model = Sequential()\n",
    "# cnn_model.add(Conv1D(filters=64, kernel_size=100, activation='relu', input_shape=(X.shape[1],X.shape[2])))\n",
    "# cnn_model.add(Conv1D(filters=32, kernel_size=50, activation='relu'))\n",
    "\n",
    "# cnn_model.add(MaxPooling1D(pool_size=4))\n",
    "# cnn_model.add(MaxPooling1D(pool_size=4))\n",
    "cnn_model.add(Dropout(0.5))\n",
    "cnn_model.add(GRU(32))\n",
    "# cnn_model.add(Flatten())\n",
    "# cnn_model.add(Dense(40, activation='relu'))\n",
    "cnn_model.add(Dense(no_classes, activation='softmax'))\n",
    "\n",
    "cnn_model.summary()\n",
    "\n",
    "cnn_model.compile(loss='binary_crossentropy', optimizer='adam',metrics=['accuracy'])"
   ]
  },
  {
   "cell_type": "code",
   "execution_count": 11,
   "id": "4e5803f3",
   "metadata": {},
   "outputs": [
    {
     "name": "stdout",
     "output_type": "stream",
     "text": [
      "Epoch 1/100\n"
     ]
    },
    {
     "name": "stderr",
     "output_type": "stream",
     "text": [
      "2022-03-06 22:56:20.688614: W tensorflow/core/platform/profile_utils/cpu_utils.cc:128] Failed to get CPU frequency: 0 Hz\n"
     ]
    },
    {
     "name": "stdout",
     "output_type": "stream",
     "text": [
      "44/44 [==============================] - 45s 989ms/step - loss: 0.3675 - accuracy: 0.2425 - val_loss: 0.3546 - val_accuracy: 0.1577\n",
      "Epoch 2/100\n",
      "44/44 [==============================] - 43s 983ms/step - loss: 0.2801 - accuracy: 0.3199 - val_loss: 0.3377 - val_accuracy: 0.2095\n",
      "Epoch 3/100\n",
      "44/44 [==============================] - 45s 1s/step - loss: 0.2580 - accuracy: 0.3909 - val_loss: 0.3195 - val_accuracy: 0.2848\n",
      "Epoch 4/100\n",
      "44/44 [==============================] - 45s 1s/step - loss: 0.2347 - accuracy: 0.4685 - val_loss: 0.3235 - val_accuracy: 0.3542\n",
      "Epoch 5/100\n",
      "44/44 [==============================] - 47s 1s/step - loss: 0.2154 - accuracy: 0.5297 - val_loss: 0.3358 - val_accuracy: 0.3687\n",
      "Epoch 6/100\n",
      "44/44 [==============================] - 43s 990ms/step - loss: 0.1980 - accuracy: 0.5886 - val_loss: 0.3397 - val_accuracy: 0.4008\n",
      "Epoch 7/100\n",
      "44/44 [==============================] - 44s 1s/step - loss: 0.1821 - accuracy: 0.6305 - val_loss: 0.2991 - val_accuracy: 0.4064\n",
      "Epoch 8/100\n",
      "44/44 [==============================] - 45s 1s/step - loss: 0.1682 - accuracy: 0.6561 - val_loss: 0.2869 - val_accuracy: 0.4153\n",
      "Epoch 9/100\n",
      "44/44 [==============================] - 44s 1s/step - loss: 0.1561 - accuracy: 0.6776 - val_loss: 0.2726 - val_accuracy: 0.4310\n",
      "Epoch 10/100\n",
      "44/44 [==============================] - 45s 1s/step - loss: 0.1468 - accuracy: 0.6937 - val_loss: 0.2425 - val_accuracy: 0.4798\n",
      "Epoch 11/100\n",
      "44/44 [==============================] - 44s 996ms/step - loss: 0.1381 - accuracy: 0.7118 - val_loss: 0.2234 - val_accuracy: 0.5029\n",
      "Epoch 12/100\n",
      "44/44 [==============================] - 43s 984ms/step - loss: 0.1307 - accuracy: 0.7312 - val_loss: 0.2390 - val_accuracy: 0.4934\n",
      "Epoch 13/100\n",
      "44/44 [==============================] - 43s 973ms/step - loss: 0.1222 - accuracy: 0.7514 - val_loss: 0.2379 - val_accuracy: 0.4958\n",
      "Epoch 14/100\n",
      "44/44 [==============================] - 44s 996ms/step - loss: 0.1143 - accuracy: 0.7720 - val_loss: 0.2261 - val_accuracy: 0.5162\n",
      "Epoch 15/100\n",
      "44/44 [==============================] - 44s 1s/step - loss: 0.1075 - accuracy: 0.7900 - val_loss: 0.1768 - val_accuracy: 0.6020\n",
      "Epoch 16/100\n",
      "44/44 [==============================] - 46s 1s/step - loss: 0.0989 - accuracy: 0.8119 - val_loss: 0.1905 - val_accuracy: 0.5764\n",
      "Epoch 17/100\n",
      "44/44 [==============================] - 48s 1s/step - loss: 0.0883 - accuracy: 0.8374 - val_loss: 0.1429 - val_accuracy: 0.6927\n",
      "Epoch 18/100\n",
      "44/44 [==============================] - 46s 1s/step - loss: 0.0836 - accuracy: 0.8456 - val_loss: 0.1399 - val_accuracy: 0.7026\n",
      "Epoch 19/100\n",
      "44/44 [==============================] - 45s 1s/step - loss: 0.0763 - accuracy: 0.8656 - val_loss: 0.1328 - val_accuracy: 0.7195\n",
      "Epoch 20/100\n",
      "44/44 [==============================] - 44s 990ms/step - loss: 0.0692 - accuracy: 0.8810 - val_loss: 0.1175 - val_accuracy: 0.7550\n",
      "Epoch 21/100\n",
      "44/44 [==============================] - 44s 1s/step - loss: 0.0638 - accuracy: 0.8905 - val_loss: 0.1465 - val_accuracy: 0.7038\n",
      "Epoch 22/100\n",
      "44/44 [==============================] - 43s 965ms/step - loss: 0.0637 - accuracy: 0.8892 - val_loss: 0.1323 - val_accuracy: 0.7334\n",
      "Epoch 23/100\n",
      "44/44 [==============================] - 43s 972ms/step - loss: 0.0640 - accuracy: 0.8845 - val_loss: 0.1180 - val_accuracy: 0.7741\n",
      "Epoch 24/100\n",
      "44/44 [==============================] - 43s 977ms/step - loss: 0.0560 - accuracy: 0.9067 - val_loss: 0.1148 - val_accuracy: 0.7862\n",
      "Epoch 25/100\n",
      "44/44 [==============================] - 43s 973ms/step - loss: 0.0498 - accuracy: 0.9232 - val_loss: 0.1422 - val_accuracy: 0.7229\n",
      "Epoch 26/100\n",
      "44/44 [==============================] - 43s 972ms/step - loss: 0.0457 - accuracy: 0.9322 - val_loss: 0.1140 - val_accuracy: 0.7917\n",
      "Epoch 27/100\n",
      "44/44 [==============================] - 44s 991ms/step - loss: 0.0434 - accuracy: 0.9355 - val_loss: 0.1142 - val_accuracy: 0.7930\n",
      "Epoch 28/100\n",
      "44/44 [==============================] - 576s 13s/step - loss: 0.0401 - accuracy: 0.9472 - val_loss: 0.1000 - val_accuracy: 0.8201\n",
      "Epoch 29/100\n",
      "44/44 [==============================] - 35s 801ms/step - loss: 0.0403 - accuracy: 0.9473 - val_loss: 0.1179 - val_accuracy: 0.7794\n",
      "Epoch 30/100\n",
      "44/44 [==============================] - 38s 865ms/step - loss: 0.0397 - accuracy: 0.9457 - val_loss: 0.1081 - val_accuracy: 0.7914\n",
      "Epoch 31/100\n",
      "44/44 [==============================] - 39s 885ms/step - loss: 0.0347 - accuracy: 0.9591 - val_loss: 0.1199 - val_accuracy: 0.7859\n",
      "Epoch 32/100\n",
      "44/44 [==============================] - 39s 891ms/step - loss: 0.0322 - accuracy: 0.9629 - val_loss: 0.1020 - val_accuracy: 0.8269\n",
      "Epoch 33/100\n",
      "44/44 [==============================] - 40s 922ms/step - loss: 0.0297 - accuracy: 0.9667 - val_loss: 0.1188 - val_accuracy: 0.8004\n",
      "Epoch 34/100\n",
      "44/44 [==============================] - 41s 939ms/step - loss: 0.0269 - accuracy: 0.9715 - val_loss: 0.1280 - val_accuracy: 0.7856\n",
      "Epoch 35/100\n",
      "44/44 [==============================] - 41s 937ms/step - loss: 0.0227 - accuracy: 0.9806 - val_loss: 0.1066 - val_accuracy: 0.8263\n",
      "Epoch 36/100\n",
      "44/44 [==============================] - 691s 16s/step - loss: 0.0217 - accuracy: 0.9811 - val_loss: 0.1234 - val_accuracy: 0.8115\n",
      "Epoch 37/100\n",
      "44/44 [==============================] - 35s 807ms/step - loss: 0.0231 - accuracy: 0.9759 - val_loss: 0.1755 - val_accuracy: 0.7208\n",
      "Epoch 38/100\n",
      "44/44 [==============================] - 38s 856ms/step - loss: 0.0389 - accuracy: 0.9394 - val_loss: 0.1336 - val_accuracy: 0.7782\n",
      "Epoch 39/100\n",
      "44/44 [==============================] - 40s 902ms/step - loss: 0.0240 - accuracy: 0.9739 - val_loss: 0.1188 - val_accuracy: 0.8204\n",
      "Epoch 40/100\n",
      "44/44 [==============================] - 41s 922ms/step - loss: 0.0165 - accuracy: 0.9859 - val_loss: 0.1486 - val_accuracy: 0.7680\n",
      "Epoch 41/100\n",
      "44/44 [==============================] - 43s 983ms/step - loss: 0.0143 - accuracy: 0.9897 - val_loss: 0.1316 - val_accuracy: 0.8087\n",
      "Epoch 42/100\n",
      "44/44 [==============================] - 43s 980ms/step - loss: 0.0150 - accuracy: 0.9860 - val_loss: 0.1399 - val_accuracy: 0.7970\n",
      "Epoch 43/100\n",
      "44/44 [==============================] - 45s 1s/step - loss: 0.0178 - accuracy: 0.9805 - val_loss: 0.1362 - val_accuracy: 0.7961\n",
      "Epoch 44/100\n",
      "44/44 [==============================] - 45s 1s/step - loss: 0.0154 - accuracy: 0.9842 - val_loss: 0.1358 - val_accuracy: 0.8047\n",
      "Epoch 45/100\n",
      "44/44 [==============================] - 43s 973ms/step - loss: 0.0126 - accuracy: 0.9898 - val_loss: 0.1306 - val_accuracy: 0.8139\n",
      "Epoch 46/100\n",
      "44/44 [==============================] - 44s 997ms/step - loss: 0.0170 - accuracy: 0.9793 - val_loss: 0.1590 - val_accuracy: 0.7649\n",
      "Epoch 47/100\n",
      "44/44 [==============================] - 49s 1s/step - loss: 0.0220 - accuracy: 0.9685 - val_loss: 0.1927 - val_accuracy: 0.7208\n",
      "Epoch 48/100\n",
      "44/44 [==============================] - 44s 1s/step - loss: 0.0192 - accuracy: 0.9759 - val_loss: 0.1078 - val_accuracy: 0.8448\n",
      "Epoch 49/100\n",
      "44/44 [==============================] - 47s 1s/step - loss: 0.0130 - accuracy: 0.9862 - val_loss: 0.1025 - val_accuracy: 0.8602\n",
      "Epoch 50/100\n",
      "44/44 [==============================] - 47s 1s/step - loss: 0.0097 - accuracy: 0.9927 - val_loss: 0.1015 - val_accuracy: 0.8562\n",
      "Epoch 51/100\n",
      "44/44 [==============================] - 47s 1s/step - loss: 0.0084 - accuracy: 0.9940 - val_loss: 0.1219 - val_accuracy: 0.8312\n",
      "Epoch 52/100\n",
      "44/44 [==============================] - 47s 1s/step - loss: 0.0144 - accuracy: 0.9822 - val_loss: 0.1841 - val_accuracy: 0.7569\n",
      "Epoch 53/100\n",
      "44/44 [==============================] - 48s 1s/step - loss: 0.0136 - accuracy: 0.9836 - val_loss: 0.1352 - val_accuracy: 0.8118\n",
      "Epoch 54/100\n",
      "44/44 [==============================] - 46s 1s/step - loss: 0.0102 - accuracy: 0.9909 - val_loss: 0.1024 - val_accuracy: 0.8664\n",
      "Epoch 55/100\n",
      "44/44 [==============================] - 47s 1s/step - loss: 0.0079 - accuracy: 0.9929 - val_loss: 0.1076 - val_accuracy: 0.8541\n",
      "Epoch 56/100\n",
      "44/44 [==============================] - 47s 1s/step - loss: 0.0066 - accuracy: 0.9951 - val_loss: 0.1074 - val_accuracy: 0.8599\n",
      "Epoch 57/100\n",
      "44/44 [==============================] - 50s 1s/step - loss: 0.0122 - accuracy: 0.9854 - val_loss: 0.1058 - val_accuracy: 0.8581\n",
      "Epoch 58/100\n",
      "44/44 [==============================] - 50s 1s/step - loss: 0.0085 - accuracy: 0.9917 - val_loss: 0.1134 - val_accuracy: 0.8494\n",
      "Epoch 59/100\n",
      "44/44 [==============================] - 51s 1s/step - loss: 0.0098 - accuracy: 0.9891 - val_loss: 0.1336 - val_accuracy: 0.8238\n",
      "Epoch 60/100\n",
      "44/44 [==============================] - 48s 1s/step - loss: 0.0074 - accuracy: 0.9935 - val_loss: 0.1166 - val_accuracy: 0.8451\n",
      "Epoch 61/100\n",
      "44/44 [==============================] - 37s 836ms/step - loss: 0.0069 - accuracy: 0.9937 - val_loss: 0.1239 - val_accuracy: 0.8423\n",
      "Epoch 62/100\n",
      "44/44 [==============================] - 33s 757ms/step - loss: 0.0054 - accuracy: 0.9967 - val_loss: 0.1330 - val_accuracy: 0.8294\n",
      "Epoch 63/100\n",
      "44/44 [==============================] - 35s 789ms/step - loss: 0.0052 - accuracy: 0.9964 - val_loss: 0.1077 - val_accuracy: 0.8608\n",
      "Epoch 64/100\n",
      "44/44 [==============================] - 35s 787ms/step - loss: 0.0045 - accuracy: 0.9970 - val_loss: 0.1077 - val_accuracy: 0.8575\n",
      "Epoch 65/100\n",
      "44/44 [==============================] - 34s 770ms/step - loss: 0.0063 - accuracy: 0.9938 - val_loss: 0.1017 - val_accuracy: 0.8744\n",
      "Epoch 66/100\n",
      "44/44 [==============================] - 34s 770ms/step - loss: 0.0052 - accuracy: 0.9955 - val_loss: 0.1471 - val_accuracy: 0.8146\n",
      "Epoch 67/100\n",
      "44/44 [==============================] - 34s 782ms/step - loss: 0.0069 - accuracy: 0.9926 - val_loss: 0.1229 - val_accuracy: 0.8386\n",
      "Epoch 68/100\n",
      "44/44 [==============================] - 35s 786ms/step - loss: 0.0052 - accuracy: 0.9952 - val_loss: 0.1100 - val_accuracy: 0.8565\n",
      "Epoch 69/100\n",
      "44/44 [==============================] - 34s 768ms/step - loss: 0.0048 - accuracy: 0.9960 - val_loss: 0.1282 - val_accuracy: 0.8463\n",
      "Epoch 70/100\n",
      "44/44 [==============================] - 34s 785ms/step - loss: 0.0044 - accuracy: 0.9963 - val_loss: 0.1259 - val_accuracy: 0.8451\n",
      "Epoch 71/100\n",
      "44/44 [==============================] - 35s 790ms/step - loss: 0.0040 - accuracy: 0.9970 - val_loss: 0.1129 - val_accuracy: 0.8578\n",
      "Epoch 72/100\n",
      "44/44 [==============================] - 34s 767ms/step - loss: 0.0036 - accuracy: 0.9976 - val_loss: 0.1217 - val_accuracy: 0.8593\n",
      "Epoch 73/100\n",
      "44/44 [==============================] - 34s 781ms/step - loss: 0.0029 - accuracy: 0.9987 - val_loss: 0.1295 - val_accuracy: 0.8433\n",
      "Epoch 74/100\n",
      "44/44 [==============================] - 36s 813ms/step - loss: 0.0026 - accuracy: 0.9987 - val_loss: 0.1132 - val_accuracy: 0.8639\n",
      "Epoch 75/100\n",
      "44/44 [==============================] - 34s 783ms/step - loss: 0.0048 - accuracy: 0.9948 - val_loss: 0.1356 - val_accuracy: 0.8340\n",
      "Epoch 76/100\n",
      "44/44 [==============================] - 35s 789ms/step - loss: 0.0082 - accuracy: 0.9887 - val_loss: 0.1408 - val_accuracy: 0.8235\n",
      "Epoch 77/100\n",
      "44/44 [==============================] - 36s 820ms/step - loss: 0.0075 - accuracy: 0.9900 - val_loss: 0.1170 - val_accuracy: 0.8528\n",
      "Epoch 78/100\n",
      "44/44 [==============================] - 35s 788ms/step - loss: 0.0063 - accuracy: 0.9923 - val_loss: 0.1167 - val_accuracy: 0.8513\n",
      "Epoch 79/100\n",
      "44/44 [==============================] - 36s 830ms/step - loss: 0.0041 - accuracy: 0.9961 - val_loss: 0.1093 - val_accuracy: 0.8590\n",
      "Epoch 80/100\n",
      "44/44 [==============================] - 36s 821ms/step - loss: 0.0040 - accuracy: 0.9966 - val_loss: 0.1191 - val_accuracy: 0.8596\n",
      "Epoch 81/100\n",
      "44/44 [==============================] - 36s 819ms/step - loss: 0.0030 - accuracy: 0.9978 - val_loss: 0.1213 - val_accuracy: 0.8599\n",
      "Epoch 82/100\n",
      "44/44 [==============================] - 38s 867ms/step - loss: 0.0035 - accuracy: 0.9968 - val_loss: 0.1162 - val_accuracy: 0.8587\n",
      "Epoch 83/100\n",
      "44/44 [==============================] - 35s 797ms/step - loss: 0.0046 - accuracy: 0.9944 - val_loss: 0.1174 - val_accuracy: 0.8556\n",
      "Epoch 84/100\n",
      "44/44 [==============================] - 34s 764ms/step - loss: 0.0033 - accuracy: 0.9972 - val_loss: 0.1055 - val_accuracy: 0.8750\n",
      "Epoch 85/100\n",
      "44/44 [==============================] - 33s 742ms/step - loss: 0.0030 - accuracy: 0.9974 - val_loss: 0.1115 - val_accuracy: 0.8645\n",
      "Epoch 86/100\n",
      "44/44 [==============================] - 32s 735ms/step - loss: 0.0075 - accuracy: 0.9888 - val_loss: 0.1185 - val_accuracy: 0.8556\n",
      "Epoch 87/100\n",
      "44/44 [==============================] - 32s 719ms/step - loss: 0.0059 - accuracy: 0.9921 - val_loss: 0.1113 - val_accuracy: 0.8639\n",
      "Epoch 88/100\n",
      "44/44 [==============================] - 31s 706ms/step - loss: 0.0040 - accuracy: 0.9955 - val_loss: 0.1265 - val_accuracy: 0.8402\n",
      "Epoch 89/100\n",
      "44/44 [==============================] - 34s 783ms/step - loss: 0.0026 - accuracy: 0.9980 - val_loss: 0.1012 - val_accuracy: 0.8753\n",
      "Epoch 90/100\n",
      "44/44 [==============================] - 34s 765ms/step - loss: 0.0025 - accuracy: 0.9982 - val_loss: 0.1186 - val_accuracy: 0.8599\n",
      "Epoch 91/100\n",
      "44/44 [==============================] - 34s 768ms/step - loss: 0.0035 - accuracy: 0.9962 - val_loss: 0.1047 - val_accuracy: 0.8720\n",
      "Epoch 92/100\n",
      "44/44 [==============================] - 34s 771ms/step - loss: 0.0025 - accuracy: 0.9979 - val_loss: 0.1172 - val_accuracy: 0.8602\n",
      "Epoch 93/100\n",
      "44/44 [==============================] - 34s 778ms/step - loss: 0.0022 - accuracy: 0.9985 - val_loss: 0.1214 - val_accuracy: 0.8504\n",
      "Epoch 94/100\n",
      "44/44 [==============================] - 35s 797ms/step - loss: 0.0156 - accuracy: 0.9775 - val_loss: 0.1277 - val_accuracy: 0.8325\n",
      "Epoch 95/100\n",
      "44/44 [==============================] - 33s 750ms/step - loss: 0.0050 - accuracy: 0.9943 - val_loss: 0.1294 - val_accuracy: 0.8365\n",
      "Epoch 96/100\n",
      "44/44 [==============================] - 33s 740ms/step - loss: 0.0022 - accuracy: 0.9986 - val_loss: 0.1073 - val_accuracy: 0.8686\n",
      "Epoch 97/100\n",
      "44/44 [==============================] - 32s 726ms/step - loss: 0.0032 - accuracy: 0.9969 - val_loss: 0.1080 - val_accuracy: 0.8732\n",
      "Epoch 98/100\n",
      "44/44 [==============================] - 33s 759ms/step - loss: 0.0030 - accuracy: 0.9967 - val_loss: 0.1292 - val_accuracy: 0.8553\n",
      "Epoch 99/100\n",
      "44/44 [==============================] - 33s 743ms/step - loss: 0.0033 - accuracy: 0.9963 - val_loss: 0.1321 - val_accuracy: 0.8507\n",
      "Epoch 100/100\n",
      "44/44 [==============================] - 32s 722ms/step - loss: 0.0024 - accuracy: 0.9981 - val_loss: 0.1145 - val_accuracy: 0.8707\n"
     ]
    }
   ],
   "source": [
    "batch_size =300\n",
    "epochs = 100\n",
    "history = cnn_model.fit(X_train, y_train, batch_size=batch_size,epochs=epochs,verbose=1,validation_data=(X_test,y_test),shuffle=True)"
   ]
  },
  {
   "cell_type": "code",
   "execution_count": 15,
   "id": "ff14d204",
   "metadata": {},
   "outputs": [
    {
     "name": "stdout",
     "output_type": "stream",
     "text": [
      "Test loss: 0.11449409276247025\n",
      "Test accuracy: 0.8707188963890076\n"
     ]
    },
    {
     "data": {
      "image/png": "[encoded data removed]",
      "text/plain": [
       "<Figure size 720x720 with 2 Axes>"
      ]
     },
     "metadata": {
      "needs_background": "light"
     },
     "output_type": "display_data"
    }
   ],
   "source": [
    "def inv_Transform_result(y_pred):    \n",
    "    y_pred = y_pred.argmax(axis=1)\n",
    "    y_pred = encoder.inverse_transform(y_pred)\n",
    "    return y_pred\n",
    "\n",
    "\n",
    "\n",
    "y_pred=cnn_model.predict(X_test)\n",
    "\n",
    "score = cnn_model.evaluate(X_test, y_test, verbose = 0) \n",
    "\n",
    "print('Test loss:', score[0]) \n",
    "print('Test accuracy:', score[1])\n",
    "\n",
    "Y_pred=inv_Transform_result(y_pred)\n",
    "Y_test = inv_Transform_result(y_test)\n",
    "\n",
    "\n",
    "\n",
    "\n",
    "from sklearn.metrics import confusion_matrix\n",
    "\n",
    "\n",
    "plt.figure(figsize=(10,10))\n",
    "cm = confusion_matrix(Y_test, Y_pred,normalize='true')\n",
    "f = sns.heatmap(cm, annot=True,xticklabels=encoder.classes_,yticklabels=encoder.classes_)\n",
    "plt.show()"
   ]
  },
  {
   "cell_type": "code",
   "execution_count": null,
   "id": "b443d11b",
   "metadata": {},
   "outputs": [],
   "source": []
  }
 ],
 "metadata": {
  "kernelspec": {
   "display_name": "Python 3 (ipykernel)",
   "language": "python",
   "name": "python3"
  },
  "language_info": {
   "codemirror_mode": {
    "name": "ipython",
    "version": 3
   },
   "file_extension": ".py",
   "mimetype": "text/x-python",
   "name": "python",
   "nbconvert_exporter": "python",
   "pygments_lexer": "ipython3",
   "version": "3.8.12"
  }
 },
 "nbformat": 4,
 "nbformat_minor": 5
}
